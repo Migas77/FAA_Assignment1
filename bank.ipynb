{
 "cells": [
  {
   "cell_type": "code",
   "execution_count": 617,
   "metadata": {},
   "outputs": [],
   "source": [
    "# Suppress warnings\n",
    "import warnings\n",
    "warnings.filterwarnings('ignore')\n",
    "\n",
    "import pandas as pd\n",
    "import numpy as np\n",
    "import matplotlib.pyplot as plt\n",
    "import seaborn as sns\n",
    "from sklearn.model_selection import train_test_split\n",
    "from sklearn.linear_model import LogisticRegression\n",
    "from sklearn.metrics import accuracy_score, confusion_matrix, classification_report\n",
    "from sklearn.preprocessing import StandardScaler, LabelEncoder\n",
    "from sklearn.model_selection import StratifiedKFold\n",
    "from sklearn.model_selection import GridSearchCV\n",
    "from sklearn.feature_selection import VarianceThreshold\n",
    "from sklearn.preprocessing import OneHotEncoder\n"
   ]
  },
  {
   "cell_type": "code",
   "execution_count": 618,
   "metadata": {},
   "outputs": [],
   "source": [
    "file_path = \"bank.csv\"\n",
    "df = pd.read_csv(file_path)"
   ]
  },
  {
   "cell_type": "code",
   "execution_count": 619,
   "metadata": {},
   "outputs": [
    {
     "data": {
      "text/html": [
       "<div>\n",
       "<style scoped>\n",
       "    .dataframe tbody tr th:only-of-type {\n",
       "        vertical-align: middle;\n",
       "    }\n",
       "\n",
       "    .dataframe tbody tr th {\n",
       "        vertical-align: top;\n",
       "    }\n",
       "\n",
       "    .dataframe thead th {\n",
       "        text-align: right;\n",
       "    }\n",
       "</style>\n",
       "<table border=\"1\" class=\"dataframe\">\n",
       "  <thead>\n",
       "    <tr style=\"text-align: right;\">\n",
       "      <th></th>\n",
       "      <th>age</th>\n",
       "      <th>job</th>\n",
       "      <th>marital</th>\n",
       "      <th>education</th>\n",
       "      <th>default</th>\n",
       "      <th>balance</th>\n",
       "      <th>housing</th>\n",
       "      <th>loan</th>\n",
       "      <th>contact</th>\n",
       "      <th>day</th>\n",
       "      <th>month</th>\n",
       "      <th>duration</th>\n",
       "      <th>campaign</th>\n",
       "      <th>pdays</th>\n",
       "      <th>previous</th>\n",
       "      <th>poutcome</th>\n",
       "      <th>deposit</th>\n",
       "    </tr>\n",
       "  </thead>\n",
       "  <tbody>\n",
       "    <tr>\n",
       "      <th>0</th>\n",
       "      <td>59</td>\n",
       "      <td>admin.</td>\n",
       "      <td>married</td>\n",
       "      <td>secondary</td>\n",
       "      <td>no</td>\n",
       "      <td>2343</td>\n",
       "      <td>yes</td>\n",
       "      <td>no</td>\n",
       "      <td>unknown</td>\n",
       "      <td>5</td>\n",
       "      <td>may</td>\n",
       "      <td>1042</td>\n",
       "      <td>1</td>\n",
       "      <td>-1</td>\n",
       "      <td>0</td>\n",
       "      <td>unknown</td>\n",
       "      <td>yes</td>\n",
       "    </tr>\n",
       "    <tr>\n",
       "      <th>1</th>\n",
       "      <td>56</td>\n",
       "      <td>admin.</td>\n",
       "      <td>married</td>\n",
       "      <td>secondary</td>\n",
       "      <td>no</td>\n",
       "      <td>45</td>\n",
       "      <td>no</td>\n",
       "      <td>no</td>\n",
       "      <td>unknown</td>\n",
       "      <td>5</td>\n",
       "      <td>may</td>\n",
       "      <td>1467</td>\n",
       "      <td>1</td>\n",
       "      <td>-1</td>\n",
       "      <td>0</td>\n",
       "      <td>unknown</td>\n",
       "      <td>yes</td>\n",
       "    </tr>\n",
       "    <tr>\n",
       "      <th>2</th>\n",
       "      <td>41</td>\n",
       "      <td>technician</td>\n",
       "      <td>married</td>\n",
       "      <td>secondary</td>\n",
       "      <td>no</td>\n",
       "      <td>1270</td>\n",
       "      <td>yes</td>\n",
       "      <td>no</td>\n",
       "      <td>unknown</td>\n",
       "      <td>5</td>\n",
       "      <td>may</td>\n",
       "      <td>1389</td>\n",
       "      <td>1</td>\n",
       "      <td>-1</td>\n",
       "      <td>0</td>\n",
       "      <td>unknown</td>\n",
       "      <td>yes</td>\n",
       "    </tr>\n",
       "    <tr>\n",
       "      <th>3</th>\n",
       "      <td>55</td>\n",
       "      <td>services</td>\n",
       "      <td>married</td>\n",
       "      <td>secondary</td>\n",
       "      <td>no</td>\n",
       "      <td>2476</td>\n",
       "      <td>yes</td>\n",
       "      <td>no</td>\n",
       "      <td>unknown</td>\n",
       "      <td>5</td>\n",
       "      <td>may</td>\n",
       "      <td>579</td>\n",
       "      <td>1</td>\n",
       "      <td>-1</td>\n",
       "      <td>0</td>\n",
       "      <td>unknown</td>\n",
       "      <td>yes</td>\n",
       "    </tr>\n",
       "    <tr>\n",
       "      <th>4</th>\n",
       "      <td>54</td>\n",
       "      <td>admin.</td>\n",
       "      <td>married</td>\n",
       "      <td>tertiary</td>\n",
       "      <td>no</td>\n",
       "      <td>184</td>\n",
       "      <td>no</td>\n",
       "      <td>no</td>\n",
       "      <td>unknown</td>\n",
       "      <td>5</td>\n",
       "      <td>may</td>\n",
       "      <td>673</td>\n",
       "      <td>2</td>\n",
       "      <td>-1</td>\n",
       "      <td>0</td>\n",
       "      <td>unknown</td>\n",
       "      <td>yes</td>\n",
       "    </tr>\n",
       "  </tbody>\n",
       "</table>\n",
       "</div>"
      ],
      "text/plain": [
       "   age         job  marital  education default  balance housing loan  contact  \\\n",
       "0   59      admin.  married  secondary      no     2343     yes   no  unknown   \n",
       "1   56      admin.  married  secondary      no       45      no   no  unknown   \n",
       "2   41  technician  married  secondary      no     1270     yes   no  unknown   \n",
       "3   55    services  married  secondary      no     2476     yes   no  unknown   \n",
       "4   54      admin.  married   tertiary      no      184      no   no  unknown   \n",
       "\n",
       "   day month  duration  campaign  pdays  previous poutcome deposit  \n",
       "0    5   may      1042         1     -1         0  unknown     yes  \n",
       "1    5   may      1467         1     -1         0  unknown     yes  \n",
       "2    5   may      1389         1     -1         0  unknown     yes  \n",
       "3    5   may       579         1     -1         0  unknown     yes  \n",
       "4    5   may       673         2     -1         0  unknown     yes  "
      ]
     },
     "execution_count": 619,
     "metadata": {},
     "output_type": "execute_result"
    }
   ],
   "source": [
    "df.head()"
   ]
  },
  {
   "cell_type": "code",
   "execution_count": 620,
   "metadata": {},
   "outputs": [
    {
     "data": {
      "text/plain": [
       "age          0\n",
       "job          0\n",
       "marital      0\n",
       "education    0\n",
       "default      0\n",
       "balance      0\n",
       "housing      0\n",
       "loan         0\n",
       "contact      0\n",
       "day          0\n",
       "month        0\n",
       "duration     0\n",
       "campaign     0\n",
       "pdays        0\n",
       "previous     0\n",
       "poutcome     0\n",
       "deposit      0\n",
       "dtype: int64"
      ]
     },
     "execution_count": 620,
     "metadata": {},
     "output_type": "execute_result"
    }
   ],
   "source": [
    "df.isnull().sum()"
   ]
  },
  {
   "cell_type": "code",
   "execution_count": null,
   "metadata": {},
   "outputs": [],
   "source": []
  },
  {
   "cell_type": "code",
   "execution_count": 621,
   "metadata": {},
   "outputs": [
    {
     "name": "stdout",
     "output_type": "stream",
     "text": [
      "numerical_columns: Index(['age', 'balance', 'day', 'duration', 'campaign', 'pdays', 'previous'], dtype='object')\n"
     ]
    }
   ],
   "source": [
    "df['deposit'] = LabelEncoder().fit_transform(df['deposit'])\n",
    "categorical_columns = df.columns[df.dtypes == 'object']\n",
    "numerical_columns = df.columns[df.dtypes != 'object'].drop('deposit')\n",
    "print(\"numerical_columns:\", numerical_columns)\n",
    "\n",
    "# encoder = LabelEncoder()\n",
    "df = pd.get_dummies(df, columns=categorical_columns, drop_first=True)\n",
    "\n",
    "df[numerical_columns] = StandardScaler().fit_transform(df[numerical_columns])\n",
    "\n",
    "X = df.drop('deposit', axis=1)\n",
    "y = df['deposit']"
   ]
  },
  {
   "cell_type": "code",
   "execution_count": 622,
   "metadata": {},
   "outputs": [
    {
     "name": "stdout",
     "output_type": "stream",
     "text": [
      "age: 76 <class 'pandas.core.series.Series'>\n",
      "balance: 3805 <class 'pandas.core.series.Series'>\n",
      "day: 31 <class 'pandas.core.series.Series'>\n",
      "duration: 1428 <class 'pandas.core.series.Series'>\n",
      "campaign: 36 <class 'pandas.core.series.Series'>\n",
      "pdays: 472 <class 'pandas.core.series.Series'>\n",
      "previous: 34 <class 'pandas.core.series.Series'>\n",
      "job_blue-collar: 2 <class 'pandas.core.series.Series'>\n",
      "job_entrepreneur: 2 <class 'pandas.core.series.Series'>\n",
      "job_housemaid: 2 <class 'pandas.core.series.Series'>\n",
      "job_management: 2 <class 'pandas.core.series.Series'>\n",
      "job_retired: 2 <class 'pandas.core.series.Series'>\n",
      "job_self-employed: 2 <class 'pandas.core.series.Series'>\n",
      "job_services: 2 <class 'pandas.core.series.Series'>\n",
      "job_student: 2 <class 'pandas.core.series.Series'>\n",
      "job_technician: 2 <class 'pandas.core.series.Series'>\n",
      "job_unemployed: 2 <class 'pandas.core.series.Series'>\n",
      "job_unknown: 2 <class 'pandas.core.series.Series'>\n",
      "marital_married: 2 <class 'pandas.core.series.Series'>\n",
      "marital_single: 2 <class 'pandas.core.series.Series'>\n",
      "education_secondary: 2 <class 'pandas.core.series.Series'>\n",
      "education_tertiary: 2 <class 'pandas.core.series.Series'>\n",
      "education_unknown: 2 <class 'pandas.core.series.Series'>\n",
      "default_yes: 2 <class 'pandas.core.series.Series'>\n",
      "housing_yes: 2 <class 'pandas.core.series.Series'>\n",
      "loan_yes: 2 <class 'pandas.core.series.Series'>\n",
      "contact_telephone: 2 <class 'pandas.core.series.Series'>\n",
      "contact_unknown: 2 <class 'pandas.core.series.Series'>\n",
      "month_aug: 2 <class 'pandas.core.series.Series'>\n",
      "month_dec: 2 <class 'pandas.core.series.Series'>\n",
      "month_feb: 2 <class 'pandas.core.series.Series'>\n",
      "month_jan: 2 <class 'pandas.core.series.Series'>\n",
      "month_jul: 2 <class 'pandas.core.series.Series'>\n",
      "month_jun: 2 <class 'pandas.core.series.Series'>\n",
      "month_mar: 2 <class 'pandas.core.series.Series'>\n",
      "month_may: 2 <class 'pandas.core.series.Series'>\n",
      "month_nov: 2 <class 'pandas.core.series.Series'>\n",
      "month_oct: 2 <class 'pandas.core.series.Series'>\n",
      "month_sep: 2 <class 'pandas.core.series.Series'>\n",
      "poutcome_other: 2 <class 'pandas.core.series.Series'>\n",
      "poutcome_success: 2 <class 'pandas.core.series.Series'>\n",
      "poutcome_unknown: 2 <class 'pandas.core.series.Series'>\n"
     ]
    }
   ],
   "source": [
    "numerical_columns = X.select_dtypes(include=[np.number]).columns\n",
    "categorical_columns = X.select_dtypes(exclude=[np.number]).columns\n",
    "\n",
    "for column in X.columns:\n",
    "  print(f\"{column}: {len(X[column].unique())}\", type(X[column]))"
   ]
  },
  {
   "cell_type": "code",
   "execution_count": 623,
   "metadata": {},
   "outputs": [
    {
     "name": "stdout",
     "output_type": "stream",
     "text": [
      "[1 0]\n"
     ]
    }
   ],
   "source": [
    "# Step 1\n",
    "X_train, X_test, y_train, y_test = train_test_split(X, y, test_size=0.2, random_state=42)\n",
    "print(y_train.unique())"
   ]
  },
  {
   "cell_type": "code",
   "execution_count": 624,
   "metadata": {},
   "outputs": [
    {
     "name": "stdout",
     "output_type": "stream",
     "text": [
      "Best parameters found:  {'C': 1, 'solver': 'saga'}\n",
      "LogisticRegression(C=1, class_weight='balanced', solver='saga')\n"
     ]
    }
   ],
   "source": [
    "# Step 2\n",
    "lr = LogisticRegression(class_weight='balanced')\n",
    "param_grid = {\n",
    "  \"C\": [0.001, 0.01, 0.1, 1, 10, 100, 1000],\n",
    "  'solver': ['liblinear', 'saga']\n",
    "}\n",
    "cv = 10\n",
    "scoring = 'roc_auc'\n",
    "\n",
    "grid_search = GridSearchCV(lr, param_grid, cv=10, scoring=scoring)\n",
    "grid_search.fit(X_train, y_train)\n",
    "tuned_lr = grid_search.best_estimator_\n",
    "print(\"Best parameters found: \", grid_search.best_params_)\n",
    "print(tuned_lr)\n",
    "\n",
    "\n",
    "# model = GridSearchCV(\n",
    "#   estimator=best_model,\n",
    "#   cv=10,\n",
    "#   scoring=\"f1\", # DOUBT: what score should we try to maximize in this kind of problem?\n",
    "#   param_grid={\n",
    "#     'C': [0.01, 0.02, 0.03, 0.04, 0.05, 0.1, 0.5, 1, 10, 11, 15, 20, 100, 1000],\n",
    "#     'solver': ['liblinear', 'saga'],\n",
    "#     'penalty': ['l1', 'l2']\n",
    "#   },\n",
    "#   return_train_score=True,\n",
    "# )\n"
   ]
  },
  {
   "cell_type": "code",
   "execution_count": 625,
   "metadata": {},
   "outputs": [
    {
     "name": "stdout",
     "output_type": "stream",
     "text": [
      "LogisticRegression(C=1, class_weight='balanced', solver='saga')\n",
      "Accuracy:  0.8087774294670846\n",
      "Confusion Matrix:  [[957 209]\n",
      " [218 849]]\n",
      "Classification Report:                precision    recall  f1-score   support\n",
      "\n",
      "           0       0.81      0.82      0.82      1166\n",
      "           1       0.80      0.80      0.80      1067\n",
      "\n",
      "    accuracy                           0.81      2233\n",
      "   macro avg       0.81      0.81      0.81      2233\n",
      "weighted avg       0.81      0.81      0.81      2233\n",
      "\n",
      "LogisticRegression()\n",
      "Accuracy:  0.8078817733990148\n",
      "Confusion Matrix:  [[971 195]\n",
      " [234 833]]\n",
      "Classification Report:                precision    recall  f1-score   support\n",
      "\n",
      "           0       0.81      0.83      0.82      1166\n",
      "           1       0.81      0.78      0.80      1067\n",
      "\n",
      "    accuracy                           0.81      2233\n",
      "   macro avg       0.81      0.81      0.81      2233\n",
      "weighted avg       0.81      0.81      0.81      2233\n",
      "\n"
     ]
    }
   ],
   "source": [
    "# Step 3\n",
    "print(tuned_lr)\n",
    "tuned_lr.fit(X_train, y_train)\n",
    "y_pred_test = tuned_lr.predict(X_test)\n",
    "\n",
    "print(\"Accuracy: \", accuracy_score(y_test, y_pred_test))\n",
    "print(\"Confusion Matrix: \", confusion_matrix(y_test, y_pred_test))\n",
    "print(\"Classification Report: \", classification_report(y_test, y_pred_test))\n",
    "\n",
    "tuned_lr = LogisticRegression()\n",
    "print(tuned_lr)\n",
    "tuned_lr.fit(X_train, y_train)\n",
    "y_pred_test = tuned_lr.predict(X_test)\n",
    "\n",
    "print(\"Accuracy: \", accuracy_score(y_test, y_pred_test))\n",
    "print(\"Confusion Matrix: \", confusion_matrix(y_test, y_pred_test))\n",
    "print(\"Classification Report: \", classification_report(y_test, y_pred_test))"
   ]
  },
  {
   "cell_type": "code",
   "execution_count": null,
   "metadata": {},
   "outputs": [],
   "source": []
  }
 ],
 "metadata": {
  "kernelspec": {
   "display_name": "base",
   "language": "python",
   "name": "python3"
  },
  "language_info": {
   "codemirror_mode": {
    "name": "ipython",
    "version": 3
   },
   "file_extension": ".py",
   "mimetype": "text/x-python",
   "name": "python",
   "nbconvert_exporter": "python",
   "pygments_lexer": "ipython3",
   "version": "3.12.4"
  }
 },
 "nbformat": 4,
 "nbformat_minor": 2
}
