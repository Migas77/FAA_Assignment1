{
 "cells": [
  {
   "cell_type": "code",
   "execution_count": 9,
   "metadata": {},
   "outputs": [],
   "source": [
    "import pandas as pd\n",
    "import numpy as np\n",
    "import matplotlib.pyplot as plt\n",
    "import seaborn as sns\n",
    "from sklearn.model_selection import train_test_split\n",
    "from sklearn.metrics import accuracy_score, confusion_matrix, classification_report\n",
    "from sklearn.preprocessing import StandardScaler, LabelEncoder\n",
    "from sklearn.model_selection import GridSearchCV\n",
    "from sklearn.neighbors import KNeighborsClassifier\n",
    "from sklearn.linear_model import LogisticRegression\n",
    "from sklearn.svm import SVC\n",
    "from sklearn.ensemble import RandomForestClassifier\n",
    "from IPython.display import display, Markdown\n"
   ]
  },
  {
   "cell_type": "code",
   "execution_count": 2,
   "metadata": {},
   "outputs": [],
   "source": [
    "file_path = \"bank.csv\"\n",
    "df = pd.read_csv(file_path)"
   ]
  },
  {
   "cell_type": "code",
   "execution_count": 3,
   "metadata": {},
   "outputs": [
    {
     "data": {
      "text/html": [
       "<div>\n",
       "<style scoped>\n",
       "    .dataframe tbody tr th:only-of-type {\n",
       "        vertical-align: middle;\n",
       "    }\n",
       "\n",
       "    .dataframe tbody tr th {\n",
       "        vertical-align: top;\n",
       "    }\n",
       "\n",
       "    .dataframe thead th {\n",
       "        text-align: right;\n",
       "    }\n",
       "</style>\n",
       "<table border=\"1\" class=\"dataframe\">\n",
       "  <thead>\n",
       "    <tr style=\"text-align: right;\">\n",
       "      <th></th>\n",
       "      <th>age</th>\n",
       "      <th>job</th>\n",
       "      <th>marital</th>\n",
       "      <th>education</th>\n",
       "      <th>default</th>\n",
       "      <th>balance</th>\n",
       "      <th>housing</th>\n",
       "      <th>loan</th>\n",
       "      <th>contact</th>\n",
       "      <th>day</th>\n",
       "      <th>month</th>\n",
       "      <th>duration</th>\n",
       "      <th>campaign</th>\n",
       "      <th>pdays</th>\n",
       "      <th>previous</th>\n",
       "      <th>poutcome</th>\n",
       "      <th>deposit</th>\n",
       "    </tr>\n",
       "  </thead>\n",
       "  <tbody>\n",
       "    <tr>\n",
       "      <th>0</th>\n",
       "      <td>59</td>\n",
       "      <td>admin.</td>\n",
       "      <td>married</td>\n",
       "      <td>secondary</td>\n",
       "      <td>no</td>\n",
       "      <td>2343</td>\n",
       "      <td>yes</td>\n",
       "      <td>no</td>\n",
       "      <td>unknown</td>\n",
       "      <td>5</td>\n",
       "      <td>may</td>\n",
       "      <td>1042</td>\n",
       "      <td>1</td>\n",
       "      <td>-1</td>\n",
       "      <td>0</td>\n",
       "      <td>unknown</td>\n",
       "      <td>yes</td>\n",
       "    </tr>\n",
       "    <tr>\n",
       "      <th>1</th>\n",
       "      <td>56</td>\n",
       "      <td>admin.</td>\n",
       "      <td>married</td>\n",
       "      <td>secondary</td>\n",
       "      <td>no</td>\n",
       "      <td>45</td>\n",
       "      <td>no</td>\n",
       "      <td>no</td>\n",
       "      <td>unknown</td>\n",
       "      <td>5</td>\n",
       "      <td>may</td>\n",
       "      <td>1467</td>\n",
       "      <td>1</td>\n",
       "      <td>-1</td>\n",
       "      <td>0</td>\n",
       "      <td>unknown</td>\n",
       "      <td>yes</td>\n",
       "    </tr>\n",
       "    <tr>\n",
       "      <th>2</th>\n",
       "      <td>41</td>\n",
       "      <td>technician</td>\n",
       "      <td>married</td>\n",
       "      <td>secondary</td>\n",
       "      <td>no</td>\n",
       "      <td>1270</td>\n",
       "      <td>yes</td>\n",
       "      <td>no</td>\n",
       "      <td>unknown</td>\n",
       "      <td>5</td>\n",
       "      <td>may</td>\n",
       "      <td>1389</td>\n",
       "      <td>1</td>\n",
       "      <td>-1</td>\n",
       "      <td>0</td>\n",
       "      <td>unknown</td>\n",
       "      <td>yes</td>\n",
       "    </tr>\n",
       "    <tr>\n",
       "      <th>3</th>\n",
       "      <td>55</td>\n",
       "      <td>services</td>\n",
       "      <td>married</td>\n",
       "      <td>secondary</td>\n",
       "      <td>no</td>\n",
       "      <td>2476</td>\n",
       "      <td>yes</td>\n",
       "      <td>no</td>\n",
       "      <td>unknown</td>\n",
       "      <td>5</td>\n",
       "      <td>may</td>\n",
       "      <td>579</td>\n",
       "      <td>1</td>\n",
       "      <td>-1</td>\n",
       "      <td>0</td>\n",
       "      <td>unknown</td>\n",
       "      <td>yes</td>\n",
       "    </tr>\n",
       "    <tr>\n",
       "      <th>4</th>\n",
       "      <td>54</td>\n",
       "      <td>admin.</td>\n",
       "      <td>married</td>\n",
       "      <td>tertiary</td>\n",
       "      <td>no</td>\n",
       "      <td>184</td>\n",
       "      <td>no</td>\n",
       "      <td>no</td>\n",
       "      <td>unknown</td>\n",
       "      <td>5</td>\n",
       "      <td>may</td>\n",
       "      <td>673</td>\n",
       "      <td>2</td>\n",
       "      <td>-1</td>\n",
       "      <td>0</td>\n",
       "      <td>unknown</td>\n",
       "      <td>yes</td>\n",
       "    </tr>\n",
       "  </tbody>\n",
       "</table>\n",
       "</div>"
      ],
      "text/plain": [
       "   age         job  marital  education default  balance housing loan  contact  \\\n",
       "0   59      admin.  married  secondary      no     2343     yes   no  unknown   \n",
       "1   56      admin.  married  secondary      no       45      no   no  unknown   \n",
       "2   41  technician  married  secondary      no     1270     yes   no  unknown   \n",
       "3   55    services  married  secondary      no     2476     yes   no  unknown   \n",
       "4   54      admin.  married   tertiary      no      184      no   no  unknown   \n",
       "\n",
       "   day month  duration  campaign  pdays  previous poutcome deposit  \n",
       "0    5   may      1042         1     -1         0  unknown     yes  \n",
       "1    5   may      1467         1     -1         0  unknown     yes  \n",
       "2    5   may      1389         1     -1         0  unknown     yes  \n",
       "3    5   may       579         1     -1         0  unknown     yes  \n",
       "4    5   may       673         2     -1         0  unknown     yes  "
      ]
     },
     "execution_count": 3,
     "metadata": {},
     "output_type": "execute_result"
    }
   ],
   "source": [
    "df.head()"
   ]
  },
  {
   "cell_type": "code",
   "execution_count": 4,
   "metadata": {},
   "outputs": [
    {
     "data": {
      "text/plain": [
       "age          0\n",
       "job          0\n",
       "marital      0\n",
       "education    0\n",
       "default      0\n",
       "balance      0\n",
       "housing      0\n",
       "loan         0\n",
       "contact      0\n",
       "day          0\n",
       "month        0\n",
       "duration     0\n",
       "campaign     0\n",
       "pdays        0\n",
       "previous     0\n",
       "poutcome     0\n",
       "deposit      0\n",
       "dtype: int64"
      ]
     },
     "execution_count": 4,
     "metadata": {},
     "output_type": "execute_result"
    }
   ],
   "source": [
    "df.isnull().sum()"
   ]
  },
  {
   "cell_type": "code",
   "execution_count": 5,
   "metadata": {},
   "outputs": [],
   "source": [
    "df['deposit'] = LabelEncoder().fit_transform(df['deposit'])\n",
    "\n",
    "categorical_columns = df.columns[df.dtypes == 'object']\n",
    "binary_category_columns = [col for col in categorical_columns if df[col].nunique() == 2]\n",
    "n_category_columns = [col for col in categorical_columns if df[col].nunique() > 2]\n",
    "numerical_columns = df.columns[df.dtypes != 'object'].drop('deposit')\n",
    "\n",
    "df = pd.get_dummies(df, columns=binary_category_columns, drop_first=True)\n",
    "df = pd.get_dummies(df, columns=n_category_columns)\n",
    "\n",
    "df[numerical_columns] = StandardScaler().fit_transform(df[numerical_columns])\n",
    "\n",
    "X = df.drop('deposit', axis=1)\n",
    "y = df['deposit']"
   ]
  },
  {
   "cell_type": "code",
   "execution_count": 6,
   "metadata": {},
   "outputs": [
    {
     "name": "stdout",
     "output_type": "stream",
     "text": [
      "                Feature  Importance\n",
      "3              duration    0.326941\n",
      "1               balance    0.078355\n",
      "0                   age    0.078348\n",
      "2                   day    0.066812\n",
      "4              campaign    0.034753\n",
      "46     poutcome_success    0.031945\n",
      "5                 pdays    0.029882\n",
      "31      contact_unknown    0.028073\n",
      "8           housing_yes    0.026255\n",
      "6              previous    0.019314\n",
      "47     poutcome_unknown    0.015502\n",
      "29     contact_cellular    0.014719\n",
      "40            month_may    0.013379\n",
      "39            month_mar    0.012981\n",
      "32            month_apr    0.011936\n",
      "38            month_jun    0.011287\n",
      "42            month_oct    0.010762\n",
      "9              loan_yes    0.010237\n",
      "33            month_aug    0.010025\n",
      "26  education_secondary    0.009750\n",
      "27   education_tertiary    0.009699\n",
      "23      marital_married    0.009567\n",
      "37            month_jul    0.008968\n",
      "35            month_feb    0.008798\n",
      "41            month_nov    0.008469\n",
      "24       marital_single    0.008468\n",
      "14       job_management    0.008441\n",
      "11      job_blue-collar    0.008362\n",
      "19       job_technician    0.008294\n",
      "10           job_admin.    0.007318\n",
      "44     poutcome_failure    0.006266\n",
      "25    education_primary    0.006145\n",
      "43            month_sep    0.005855\n",
      "22     marital_divorced    0.005727\n",
      "17         job_services    0.005565\n",
      "36            month_jan    0.004822\n",
      "18          job_student    0.004751\n",
      "15          job_retired    0.004318\n",
      "28    education_unknown    0.003964\n",
      "30    contact_telephone    0.003717\n",
      "20       job_unemployed    0.003599\n",
      "45       poutcome_other    0.003508\n",
      "16    job_self-employed    0.003475\n",
      "12     job_entrepreneur    0.003246\n",
      "13        job_housemaid    0.002670\n",
      "34            month_dec    0.002167\n",
      "7           default_yes    0.001488\n",
      "21          job_unknown    0.001075\n",
      "Feature       48\n",
      "Importance    48\n",
      "dtype: int64\n"
     ]
    }
   ],
   "source": [
    "model = RandomForestClassifier()\n",
    "model.fit(X, y)\n",
    "feature_importance = model.feature_importances_\n",
    "important_features = pd.DataFrame({'Feature': X.columns, 'Importance': feature_importance})\n",
    "important_features = important_features.sort_values(by='Importance', ascending=False)\n",
    "print(important_features)\n",
    "print(important_features.count())\n",
    "\n",
    "#maintain only the top 40 features\n",
    "important_features = important_features.head(40)\n",
    "X = X[important_features['Feature']]"
   ]
  },
  {
   "cell_type": "code",
   "execution_count": 7,
   "metadata": {},
   "outputs": [],
   "source": [
    "X_train, X_test, y_train, y_test = train_test_split(X, y, test_size=0.2, random_state=42, stratify=y)"
   ]
  },
  {
   "cell_type": "code",
   "execution_count": 8,
   "metadata": {},
   "outputs": [
    {
     "data": {
      "text/markdown": [
       "## KNeighborsClassifier"
      ],
      "text/plain": [
       "<IPython.core.display.Markdown object>"
      ]
     },
     "metadata": {},
     "output_type": "display_data"
    },
    {
     "name": "stderr",
     "output_type": "stream",
     "text": [
      "C:\\Users\\migue\\AppData\\Roaming\\Python\\Python312\\site-packages\\numpy\\ma\\core.py:2881: RuntimeWarning: invalid value encountered in cast\n",
      "  _data = np.array(data, dtype=dtype, copy=copy,\n"
     ]
    },
    {
     "data": {
      "text/markdown": [
       "The **best parameters** found after GridSearchCV were the following: {'metric': 'minkowski', 'n_neighbors': 11, 'p': 2, 'weights': 'distance'}"
      ],
      "text/plain": [
       "<IPython.core.display.Markdown object>"
      ]
     },
     "metadata": {},
     "output_type": "display_data"
    },
    {
     "data": {
      "text/markdown": [
       "The **best accuracy** score during cross validation was: 0.81890212364228."
      ],
      "text/plain": [
       "<IPython.core.display.Markdown object>"
      ]
     },
     "metadata": {},
     "output_type": "display_data"
    },
    {
     "data": {
      "text/markdown": [
       "GridSearchCV has already refitted the tuned Model KNeighborsClassifier(n_neighbors=11, weights='distance') using the best found parameters on the training dataset."
      ],
      "text/plain": [
       "<IPython.core.display.Markdown object>"
      ]
     },
     "metadata": {},
     "output_type": "display_data"
    },
    {
     "data": {
      "text/markdown": [
       "The results on the training dataset were as follows:"
      ],
      "text/plain": [
       "<IPython.core.display.Markdown object>"
      ]
     },
     "metadata": {},
     "output_type": "display_data"
    },
    {
     "data": {
      "text/markdown": [
       "- **Accuracy**: 0.8298253470667264"
      ],
      "text/plain": [
       "<IPython.core.display.Markdown object>"
      ]
     },
     "metadata": {},
     "output_type": "display_data"
    },
    {
     "data": {
      "text/markdown": [
       "- **Classification Report**:\n"
      ],
      "text/plain": [
       "<IPython.core.display.Markdown object>"
      ]
     },
     "metadata": {},
     "output_type": "display_data"
    },
    {
     "name": "stdout",
     "output_type": "stream",
     "text": [
      "              precision    recall  f1-score   support\n",
      "\n",
      "           0      0.827     0.856     0.841      1175\n",
      "           1      0.834     0.801     0.817      1058\n",
      "\n",
      "    accuracy                          0.830      2233\n",
      "   macro avg      0.830     0.828     0.829      2233\n",
      "weighted avg      0.830     0.830     0.830      2233\n",
      "\n"
     ]
    },
    {
     "data": {
      "text/markdown": [
       "- **Confusion Matrix**:\n"
      ],
      "text/plain": [
       "<IPython.core.display.Markdown object>"
      ]
     },
     "metadata": {},
     "output_type": "display_data"
    },
    {
     "data": {
      "image/png": "[encoded data removed]",
      "text/plain": [
       "<Figure size 1000x700 with 2 Axes>"
      ]
     },
     "metadata": {},
     "output_type": "display_data"
    },
    {
     "data": {
      "text/markdown": [
       "## LogisticRegression"
      ],
      "text/plain": [
       "<IPython.core.display.Markdown object>"
      ]
     },
     "metadata": {},
     "output_type": "display_data"
    },
    {
     "data": {
      "text/markdown": [
       "The **best parameters** found after GridSearchCV were the following: {'C': 0.1, 'penalty': 'l2', 'solver': 'liblinear'}"
      ],
      "text/plain": [
       "<IPython.core.display.Markdown object>"
      ]
     },
     "metadata": {},
     "output_type": "display_data"
    },
    {
     "data": {
      "text/markdown": [
       "The **best accuracy** score during cross validation was: 0.8289835240711263."
      ],
      "text/plain": [
       "<IPython.core.display.Markdown object>"
      ]
     },
     "metadata": {},
     "output_type": "display_data"
    },
    {
     "data": {
      "text/markdown": [
       "GridSearchCV has already refitted the tuned Model LogisticRegression(C=0.1, class_weight='balanced', max_iter=10000,\n",
       "                   solver='liblinear') using the best found parameters on the training dataset."
      ],
      "text/plain": [
       "<IPython.core.display.Markdown object>"
      ]
     },
     "metadata": {},
     "output_type": "display_data"
    },
    {
     "data": {
      "text/markdown": [
       "The results on the training dataset were as follows:"
      ],
      "text/plain": [
       "<IPython.core.display.Markdown object>"
      ]
     },
     "metadata": {},
     "output_type": "display_data"
    },
    {
     "data": {
      "text/markdown": [
       "- **Accuracy**: 0.8298253470667264"
      ],
      "text/plain": [
       "<IPython.core.display.Markdown object>"
      ]
     },
     "metadata": {},
     "output_type": "display_data"
    },
    {
     "data": {
      "text/markdown": [
       "- **Classification Report**:\n"
      ],
      "text/plain": [
       "<IPython.core.display.Markdown object>"
      ]
     },
     "metadata": {},
     "output_type": "display_data"
    },
    {
     "name": "stdout",
     "output_type": "stream",
     "text": [
      "              precision    recall  f1-score   support\n",
      "\n",
      "           0      0.839     0.837     0.838      1175\n",
      "           1      0.820     0.821     0.821      1058\n",
      "\n",
      "    accuracy                          0.830      2233\n",
      "   macro avg      0.829     0.829     0.829      2233\n",
      "weighted avg      0.830     0.830     0.830      2233\n",
      "\n"
     ]
    },
    {
     "data": {
      "text/markdown": [
       "- **Confusion Matrix**:\n"
      ],
      "text/plain": [
       "<IPython.core.display.Markdown object>"
      ]
     },
     "metadata": {},
     "output_type": "display_data"
    },
    {
     "data": {
      "image/png": "[encoded data removed]",
      "text/plain": [
       "<Figure size 1000x700 with 2 Axes>"
      ]
     },
     "metadata": {},
     "output_type": "display_data"
    },
    {
     "data": {
      "text/markdown": [
       "## RandomForestClassifier"
      ],
      "text/plain": [
       "<IPython.core.display.Markdown object>"
      ]
     },
     "metadata": {},
     "output_type": "display_data"
    },
    {
     "data": {
      "text/markdown": [
       "The **best parameters** found after GridSearchCV were the following: {'max_depth': 20, 'min_samples_leaf': 2, 'n_estimators': 400}"
      ],
      "text/plain": [
       "<IPython.core.display.Markdown object>"
      ]
     },
     "metadata": {},
     "output_type": "display_data"
    },
    {
     "data": {
      "text/markdown": [
       "The **best accuracy** score during cross validation was: 0.8546290530734814."
      ],
      "text/plain": [
       "<IPython.core.display.Markdown object>"
      ]
     },
     "metadata": {},
     "output_type": "display_data"
    },
    {
     "data": {
      "text/markdown": [
       "GridSearchCV has already refitted the tuned Model RandomForestClassifier(max_depth=20, min_samples_leaf=2, n_estimators=400,\n",
       "                       random_state=42) using the best found parameters on the training dataset."
      ],
      "text/plain": [
       "<IPython.core.display.Markdown object>"
      ]
     },
     "metadata": {},
     "output_type": "display_data"
    },
    {
     "data": {
      "text/markdown": [
       "The results on the training dataset were as follows:"
      ],
      "text/plain": [
       "<IPython.core.display.Markdown object>"
      ]
     },
     "metadata": {},
     "output_type": "display_data"
    },
    {
     "data": {
      "text/markdown": [
       "- **Accuracy**: 0.8580385132109271"
      ],
      "text/plain": [
       "<IPython.core.display.Markdown object>"
      ]
     },
     "metadata": {},
     "output_type": "display_data"
    },
    {
     "data": {
      "text/markdown": [
       "- **Classification Report**:\n"
      ],
      "text/plain": [
       "<IPython.core.display.Markdown object>"
      ]
     },
     "metadata": {},
     "output_type": "display_data"
    },
    {
     "name": "stdout",
     "output_type": "stream",
     "text": [
      "              precision    recall  f1-score   support\n",
      "\n",
      "           0      0.895     0.827     0.860      1175\n",
      "           1      0.823     0.892     0.856      1058\n",
      "\n",
      "    accuracy                          0.858      2233\n",
      "   macro avg      0.859     0.860     0.858      2233\n",
      "weighted avg      0.861     0.858     0.858      2233\n",
      "\n"
     ]
    },
    {
     "data": {
      "text/markdown": [
       "- **Confusion Matrix**:\n"
      ],
      "text/plain": [
       "<IPython.core.display.Markdown object>"
      ]
     },
     "metadata": {},
     "output_type": "display_data"
    },
    {
     "data": {
      "image/png": "[encoded data removed]",
      "text/plain": [
       "<Figure size 1000x700 with 2 Axes>"
      ]
     },
     "metadata": {},
     "output_type": "display_data"
    },
    {
     "data": {
      "text/markdown": [
       "## SVC"
      ],
      "text/plain": [
       "<IPython.core.display.Markdown object>"
      ]
     },
     "metadata": {},
     "output_type": "display_data"
    },
    {
     "data": {
      "text/markdown": [
       "The **best parameters** found after GridSearchCV were the following: {'C': 100, 'gamma': 0.01}"
      ],
      "text/plain": [
       "<IPython.core.display.Markdown object>"
      ]
     },
     "metadata": {},
     "output_type": "display_data"
    },
    {
     "data": {
      "text/markdown": [
       "The **best accuracy** score during cross validation was: 0.8520544163914165."
      ],
      "text/plain": [
       "<IPython.core.display.Markdown object>"
      ]
     },
     "metadata": {},
     "output_type": "display_data"
    },
    {
     "data": {
      "text/markdown": [
       "GridSearchCV has already refitted the tuned Model SVC(C=100, gamma=0.01) using the best found parameters on the training dataset."
      ],
      "text/plain": [
       "<IPython.core.display.Markdown object>"
      ]
     },
     "metadata": {},
     "output_type": "display_data"
    },
    {
     "data": {
      "text/markdown": [
       "The results on the training dataset were as follows:"
      ],
      "text/plain": [
       "<IPython.core.display.Markdown object>"
      ]
     },
     "metadata": {},
     "output_type": "display_data"
    },
    {
     "data": {
      "text/markdown": [
       "- **Accuracy**: 0.8607254814151366"
      ],
      "text/plain": [
       "<IPython.core.display.Markdown object>"
      ]
     },
     "metadata": {},
     "output_type": "display_data"
    },
    {
     "data": {
      "text/markdown": [
       "- **Classification Report**:\n"
      ],
      "text/plain": [
       "<IPython.core.display.Markdown object>"
      ]
     },
     "metadata": {},
     "output_type": "display_data"
    },
    {
     "name": "stdout",
     "output_type": "stream",
     "text": [
      "              precision    recall  f1-score   support\n",
      "\n",
      "           0      0.889     0.840     0.864      1175\n",
      "           1      0.833     0.884     0.857      1058\n",
      "\n",
      "    accuracy                          0.861      2233\n",
      "   macro avg      0.861     0.862     0.861      2233\n",
      "weighted avg      0.862     0.861     0.861      2233\n",
      "\n"
     ]
    },
    {
     "data": {
      "text/markdown": [
       "- **Confusion Matrix**:\n"
      ],
      "text/plain": [
       "<IPython.core.display.Markdown object>"
      ]
     },
     "metadata": {},
     "output_type": "display_data"
    },
    {
     "data": {
      "image/png": "[encoded data removed]",
      "text/plain": [
       "<Figure size 1000x700 with 2 Axes>"
      ]
     },
     "metadata": {},
     "output_type": "display_data"
    }
   ],
   "source": [
    "\n",
    "model_attributes = [\n",
    "  # [model, param_grid, cv]\n",
    "  [\n",
    "    KNeighborsClassifier(),\n",
    "    {'n_neighbors': list(range(1, 20)),'weights': ['uniform', 'distance'],'p': [1, 2],'metric' : ['minkowski','euclidean','manhattan']},\n",
    "    10\n",
    "  ], [\n",
    "    LogisticRegression(class_weight='balanced', max_iter=10000),\n",
    "    {\"C\": [0.001, 0.01, 0.1, 1, 10, 100, 1000], 'solver': ['liblinear', 'saga'], 'penalty': ['l1', 'l2']},\n",
    "    10\n",
    "  ], [\n",
    "    RandomForestClassifier(random_state=42),\n",
    "    {'n_estimators': [100, 200, 400], 'max_depth': [10, 15, 20, 30, None], 'min_samples_leaf': [1, 2, 4]},\n",
    "    10\n",
    "  ], [\n",
    "    SVC(),\n",
    "    {'C': [0.1, 1, 10, 100, 1000], 'gamma': [1, 0.1, 0.01, 0.001, 0.0001]},\n",
    "    5\n",
    "  ]\n",
    "]\n",
    "\n",
    "for model, param_grid, cv in model_attributes:\n",
    "  display(Markdown(f\"## {model.__class__.__name__}\"))\n",
    "  grid_search = GridSearchCV(model, param_grid, cv=cv, scoring='accuracy')\n",
    "  grid_search.fit(X_train, y_train)\n",
    "  tuned_model = grid_search.best_estimator_\n",
    "  display(Markdown(f\"The **best parameters** found after GridSearchCV were the following: {grid_search.best_params_}\"))\n",
    "  display(Markdown(f\"The **best accuracy** score during cross validation was: {grid_search.best_score_}.\"))\n",
    "  display(Markdown(f\"GridSearchCV has already refitted the tuned Model {tuned_model} using the best found parameters on the training dataset.\"))\n",
    "  # GridSearchCV has refit=True by default, which refits the estimator using the best found parameters on the whole dataset.\n",
    "\n",
    "  display(Markdown(\"The results on the training dataset were as follows:\"))\n",
    "  y_pred_test = tuned_model.predict(X_test)\n",
    "  display(Markdown(f\"- **Accuracy**: {accuracy_score(y_test, y_pred_test)}\"))\n",
    "  display(Markdown(\"- **Classification Report**:\\n\"))\n",
    "  print(classification_report(y_test, y_pred_test, digits=3))\n",
    "  display(Markdown(\"- **Confusion Matrix**:\\n\"))\n",
    "\n",
    "  plt.figure(figsize=(10, 7))\n",
    "  sns.heatmap(confusion_matrix(y_test, y_pred_test), annot=True, fmt='d', cmap='Blues')\n",
    "  plt.xlabel('Predicted Class')\n",
    "  plt.ylabel('Actual Class')\n",
    "  plt.title(f'Confusion Matrix for {model.__class__.__name__}')\n",
    "  plt.show()\n"
   ]
  }
 ],
 "metadata": {
  "kernelspec": {
   "display_name": "base",
   "language": "python",
   "name": "python3"
  },
  "language_info": {
   "codemirror_mode": {
    "name": "ipython",
    "version": 3
   },
   "file_extension": ".py",
   "mimetype": "text/x-python",
   "name": "python",
   "nbconvert_exporter": "python",
   "pygments_lexer": "ipython3",
   "version": "3.12.4"
  }
 },
 "nbformat": 4,
 "nbformat_minor": 4
}
