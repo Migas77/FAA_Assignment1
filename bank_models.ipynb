{
 "cells": [
  {
   "cell_type": "code",
   "execution_count": 27,
   "metadata": {},
   "outputs": [],
   "source": [
    "import pandas as pd\n",
    "import numpy as np\n",
    "import matplotlib.pyplot as plt\n",
    "import seaborn as sns\n",
    "from sklearn.model_selection import train_test_split\n",
    "from sklearn.metrics import accuracy_score, confusion_matrix, classification_report\n",
    "from sklearn.preprocessing import StandardScaler, LabelEncoder\n",
    "from sklearn.model_selection import GridSearchCV\n",
    "from sklearn.neighbors import KNeighborsClassifier\n",
    "from sklearn.linear_model import LogisticRegression\n",
    "from sklearn.svm import SVC\n",
    "from sklearn.ensemble import RandomForestClassifier\n",
    "from IPython.display import display, Markdown\n"
   ]
  },
  {
   "cell_type": "code",
   "execution_count": 28,
   "metadata": {},
   "outputs": [],
   "source": [
    "file_path = \"bank.csv\"\n",
    "df = pd.read_csv(file_path)"
   ]
  },
  {
   "cell_type": "code",
   "execution_count": 29,
   "metadata": {},
   "outputs": [
    {
     "data": {
      "text/html": [
       "<div>\n",
       "<style scoped>\n",
       "    .dataframe tbody tr th:only-of-type {\n",
       "        vertical-align: middle;\n",
       "    }\n",
       "\n",
       "    .dataframe tbody tr th {\n",
       "        vertical-align: top;\n",
       "    }\n",
       "\n",
       "    .dataframe thead th {\n",
       "        text-align: right;\n",
       "    }\n",
       "</style>\n",
       "<table border=\"1\" class=\"dataframe\">\n",
       "  <thead>\n",
       "    <tr style=\"text-align: right;\">\n",
       "      <th></th>\n",
       "      <th>age</th>\n",
       "      <th>job</th>\n",
       "      <th>marital</th>\n",
       "      <th>education</th>\n",
       "      <th>default</th>\n",
       "      <th>balance</th>\n",
       "      <th>housing</th>\n",
       "      <th>loan</th>\n",
       "      <th>contact</th>\n",
       "      <th>day</th>\n",
       "      <th>month</th>\n",
       "      <th>duration</th>\n",
       "      <th>campaign</th>\n",
       "      <th>pdays</th>\n",
       "      <th>previous</th>\n",
       "      <th>poutcome</th>\n",
       "      <th>deposit</th>\n",
       "    </tr>\n",
       "  </thead>\n",
       "  <tbody>\n",
       "    <tr>\n",
       "      <th>0</th>\n",
       "      <td>59</td>\n",
       "      <td>admin.</td>\n",
       "      <td>married</td>\n",
       "      <td>secondary</td>\n",
       "      <td>no</td>\n",
       "      <td>2343</td>\n",
       "      <td>yes</td>\n",
       "      <td>no</td>\n",
       "      <td>unknown</td>\n",
       "      <td>5</td>\n",
       "      <td>may</td>\n",
       "      <td>1042</td>\n",
       "      <td>1</td>\n",
       "      <td>-1</td>\n",
       "      <td>0</td>\n",
       "      <td>unknown</td>\n",
       "      <td>yes</td>\n",
       "    </tr>\n",
       "    <tr>\n",
       "      <th>1</th>\n",
       "      <td>56</td>\n",
       "      <td>admin.</td>\n",
       "      <td>married</td>\n",
       "      <td>secondary</td>\n",
       "      <td>no</td>\n",
       "      <td>45</td>\n",
       "      <td>no</td>\n",
       "      <td>no</td>\n",
       "      <td>unknown</td>\n",
       "      <td>5</td>\n",
       "      <td>may</td>\n",
       "      <td>1467</td>\n",
       "      <td>1</td>\n",
       "      <td>-1</td>\n",
       "      <td>0</td>\n",
       "      <td>unknown</td>\n",
       "      <td>yes</td>\n",
       "    </tr>\n",
       "    <tr>\n",
       "      <th>2</th>\n",
       "      <td>41</td>\n",
       "      <td>technician</td>\n",
       "      <td>married</td>\n",
       "      <td>secondary</td>\n",
       "      <td>no</td>\n",
       "      <td>1270</td>\n",
       "      <td>yes</td>\n",
       "      <td>no</td>\n",
       "      <td>unknown</td>\n",
       "      <td>5</td>\n",
       "      <td>may</td>\n",
       "      <td>1389</td>\n",
       "      <td>1</td>\n",
       "      <td>-1</td>\n",
       "      <td>0</td>\n",
       "      <td>unknown</td>\n",
       "      <td>yes</td>\n",
       "    </tr>\n",
       "    <tr>\n",
       "      <th>3</th>\n",
       "      <td>55</td>\n",
       "      <td>services</td>\n",
       "      <td>married</td>\n",
       "      <td>secondary</td>\n",
       "      <td>no</td>\n",
       "      <td>2476</td>\n",
       "      <td>yes</td>\n",
       "      <td>no</td>\n",
       "      <td>unknown</td>\n",
       "      <td>5</td>\n",
       "      <td>may</td>\n",
       "      <td>579</td>\n",
       "      <td>1</td>\n",
       "      <td>-1</td>\n",
       "      <td>0</td>\n",
       "      <td>unknown</td>\n",
       "      <td>yes</td>\n",
       "    </tr>\n",
       "    <tr>\n",
       "      <th>4</th>\n",
       "      <td>54</td>\n",
       "      <td>admin.</td>\n",
       "      <td>married</td>\n",
       "      <td>tertiary</td>\n",
       "      <td>no</td>\n",
       "      <td>184</td>\n",
       "      <td>no</td>\n",
       "      <td>no</td>\n",
       "      <td>unknown</td>\n",
       "      <td>5</td>\n",
       "      <td>may</td>\n",
       "      <td>673</td>\n",
       "      <td>2</td>\n",
       "      <td>-1</td>\n",
       "      <td>0</td>\n",
       "      <td>unknown</td>\n",
       "      <td>yes</td>\n",
       "    </tr>\n",
       "  </tbody>\n",
       "</table>\n",
       "</div>"
      ],
      "text/plain": [
       "   age         job  marital  education default  balance housing loan  contact  \\\n",
       "0   59      admin.  married  secondary      no     2343     yes   no  unknown   \n",
       "1   56      admin.  married  secondary      no       45      no   no  unknown   \n",
       "2   41  technician  married  secondary      no     1270     yes   no  unknown   \n",
       "3   55    services  married  secondary      no     2476     yes   no  unknown   \n",
       "4   54      admin.  married   tertiary      no      184      no   no  unknown   \n",
       "\n",
       "   day month  duration  campaign  pdays  previous poutcome deposit  \n",
       "0    5   may      1042         1     -1         0  unknown     yes  \n",
       "1    5   may      1467         1     -1         0  unknown     yes  \n",
       "2    5   may      1389         1     -1         0  unknown     yes  \n",
       "3    5   may       579         1     -1         0  unknown     yes  \n",
       "4    5   may       673         2     -1         0  unknown     yes  "
      ]
     },
     "execution_count": 29,
     "metadata": {},
     "output_type": "execute_result"
    }
   ],
   "source": [
    "df.head()"
   ]
  },
  {
   "cell_type": "code",
   "execution_count": 30,
   "metadata": {},
   "outputs": [
    {
     "data": {
      "text/plain": [
       "age          0\n",
       "job          0\n",
       "marital      0\n",
       "education    0\n",
       "default      0\n",
       "balance      0\n",
       "housing      0\n",
       "loan         0\n",
       "contact      0\n",
       "day          0\n",
       "month        0\n",
       "duration     0\n",
       "campaign     0\n",
       "pdays        0\n",
       "previous     0\n",
       "poutcome     0\n",
       "deposit      0\n",
       "dtype: int64"
      ]
     },
     "execution_count": 30,
     "metadata": {},
     "output_type": "execute_result"
    }
   ],
   "source": [
    "df.isnull().sum()"
   ]
  },
  {
   "cell_type": "code",
   "execution_count": 31,
   "metadata": {},
   "outputs": [],
   "source": [
    "df['deposit'] = LabelEncoder().fit_transform(df['deposit'])\n",
    "\n",
    "categorical_columns = df.columns[df.dtypes == 'object']\n",
    "binary_category_columns = [col for col in categorical_columns if df[col].nunique() == 2]\n",
    "n_category_columns = [col for col in categorical_columns if df[col].nunique() > 2]\n",
    "numerical_columns = df.columns[df.dtypes != 'object'].drop('deposit')\n",
    "\n",
    "df = pd.get_dummies(df, columns=binary_category_columns, drop_first=True)\n",
    "df = pd.get_dummies(df, columns=n_category_columns)\n",
    "\n",
    "df[numerical_columns] = StandardScaler().fit_transform(df[numerical_columns])\n",
    "\n",
    "X = df.drop('deposit', axis=1)\n",
    "y = df['deposit']"
   ]
  },
  {
   "cell_type": "code",
   "execution_count": 32,
   "metadata": {},
   "outputs": [
    {
     "name": "stdout",
     "output_type": "stream",
     "text": [
      "age: 76\n",
      "balance: 3805\n",
      "day: 31\n",
      "duration: 1428\n",
      "campaign: 36\n",
      "pdays: 472\n",
      "previous: 34\n",
      "default_yes: 2\n",
      "housing_yes: 2\n",
      "loan_yes: 2\n",
      "job_admin.: 2\n",
      "job_blue-collar: 2\n",
      "job_entrepreneur: 2\n",
      "job_housemaid: 2\n",
      "job_management: 2\n",
      "job_retired: 2\n",
      "job_self-employed: 2\n",
      "job_services: 2\n",
      "job_student: 2\n",
      "job_technician: 2\n",
      "job_unemployed: 2\n",
      "job_unknown: 2\n",
      "marital_divorced: 2\n",
      "marital_married: 2\n",
      "marital_single: 2\n",
      "education_primary: 2\n",
      "education_secondary: 2\n",
      "education_tertiary: 2\n",
      "education_unknown: 2\n",
      "contact_cellular: 2\n",
      "contact_telephone: 2\n",
      "contact_unknown: 2\n",
      "month_apr: 2\n",
      "month_aug: 2\n",
      "month_dec: 2\n",
      "month_feb: 2\n",
      "month_jan: 2\n",
      "month_jul: 2\n",
      "month_jun: 2\n",
      "month_mar: 2\n",
      "month_may: 2\n",
      "month_nov: 2\n",
      "month_oct: 2\n",
      "month_sep: 2\n",
      "poutcome_failure: 2\n",
      "poutcome_other: 2\n",
      "poutcome_success: 2\n",
      "poutcome_unknown: 2\n",
      "deposit: 2\n"
     ]
    }
   ],
   "source": [
    "numerical_columns = X.select_dtypes(include=[np.number]).columns\n",
    "categorical_columns = X.select_dtypes(exclude=[np.number]).columns\n",
    "\n",
    "for column in X.columns:\n",
    "  print(f\"{column}: {len(X[column].unique())}\")\n",
    "\n",
    "print(f\"{y.name}: {len(y.unique())}\")"
   ]
  },
  {
   "cell_type": "code",
   "execution_count": 33,
   "metadata": {},
   "outputs": [
    {
     "name": "stdout",
     "output_type": "stream",
     "text": [
      "[0 1]\n"
     ]
    }
   ],
   "source": [
    "# Step 1\n",
    "X_train, X_test, y_train, y_test = train_test_split(X, y, test_size=0.2, random_state=42, stratify=y)\n",
    "print(y_train.unique())"
   ]
  },
  {
   "cell_type": "code",
   "execution_count": 34,
   "metadata": {},
   "outputs": [
    {
     "data": {
      "text/markdown": [
       "## KNeighborsClassifier"
      ],
      "text/plain": [
       "<IPython.core.display.Markdown object>"
      ]
     },
     "metadata": {},
     "output_type": "display_data"
    },
    {
     "data": {
      "text/markdown": [
       "The **best parameters** found after GridSearchCV were the following: {'metric': 'minkowski', 'n_neighbors': 16, 'p': 2, 'weights': 'distance'}"
      ],
      "text/plain": [
       "<IPython.core.display.Markdown object>"
      ]
     },
     "metadata": {},
     "output_type": "display_data"
    },
    {
     "data": {
      "text/markdown": [
       "The **best accuracy** score during cross validation was: 0.8180058903579912."
      ],
      "text/plain": [
       "<IPython.core.display.Markdown object>"
      ]
     },
     "metadata": {},
     "output_type": "display_data"
    },
    {
     "data": {
      "text/markdown": [
       "GridSearchCV has already refitted the tuned Model KNeighborsClassifier(n_neighbors=16, weights='distance') using the best found parameters on the training dataset."
      ],
      "text/plain": [
       "<IPython.core.display.Markdown object>"
      ]
     },
     "metadata": {},
     "output_type": "display_data"
    },
    {
     "data": {
      "text/markdown": [
       "The results on the training dataset were as follows:"
      ],
      "text/plain": [
       "<IPython.core.display.Markdown object>"
      ]
     },
     "metadata": {},
     "output_type": "display_data"
    },
    {
     "data": {
      "text/markdown": [
       "- **Accuracy**: 0.8266905508284819"
      ],
      "text/plain": [
       "<IPython.core.display.Markdown object>"
      ]
     },
     "metadata": {},
     "output_type": "display_data"
    },
    {
     "data": {
      "text/markdown": [
       "- **Classification Report**:\n"
      ],
      "text/plain": [
       "<IPython.core.display.Markdown object>"
      ]
     },
     "metadata": {},
     "output_type": "display_data"
    },
    {
     "name": "stdout",
     "output_type": "stream",
     "text": [
      "              precision    recall  f1-score   support\n",
      "\n",
      "           0      0.823     0.854     0.838      1175\n",
      "           1      0.831     0.796     0.813      1058\n",
      "\n",
      "    accuracy                          0.827      2233\n",
      "   macro avg      0.827     0.825     0.826      2233\n",
      "weighted avg      0.827     0.827     0.826      2233\n",
      "\n"
     ]
    },
    {
     "data": {
      "text/markdown": [
       "- **Confusion Matrix**:\n"
      ],
      "text/plain": [
       "<IPython.core.display.Markdown object>"
      ]
     },
     "metadata": {},
     "output_type": "display_data"
    },
    {
     "data": {
      "image/png": "[encoded data removed]",
      "text/plain": [
       "<Figure size 1000x700 with 2 Axes>"
      ]
     },
     "metadata": {},
     "output_type": "display_data"
    },
    {
     "data": {
      "text/markdown": [
       "## LogisticRegression"
      ],
      "text/plain": [
       "<IPython.core.display.Markdown object>"
      ]
     },
     "metadata": {},
     "output_type": "display_data"
    },
    {
     "data": {
      "text/markdown": [
       "The **best parameters** found after GridSearchCV were the following: {'C': 0.1, 'penalty': 'l1', 'solver': 'saga'}"
      ],
      "text/plain": [
       "<IPython.core.display.Markdown object>"
      ]
     },
     "metadata": {},
     "output_type": "display_data"
    },
    {
     "data": {
      "text/markdown": [
       "The **best accuracy** score during cross validation was: 0.8278637032424587."
      ],
      "text/plain": [
       "<IPython.core.display.Markdown object>"
      ]
     },
     "metadata": {},
     "output_type": "display_data"
    },
    {
     "data": {
      "text/markdown": [
       "GridSearchCV has already refitted the tuned Model LogisticRegression(C=0.1, class_weight='balanced', max_iter=10000, penalty='l1',\n",
       "                   solver='saga') using the best found parameters on the training dataset."
      ],
      "text/plain": [
       "<IPython.core.display.Markdown object>"
      ]
     },
     "metadata": {},
     "output_type": "display_data"
    },
    {
     "data": {
      "text/markdown": [
       "The results on the training dataset were as follows:"
      ],
      "text/plain": [
       "<IPython.core.display.Markdown object>"
      ]
     },
     "metadata": {},
     "output_type": "display_data"
    },
    {
     "data": {
      "text/markdown": [
       "- **Accuracy**: 0.8289296909986565"
      ],
      "text/plain": [
       "<IPython.core.display.Markdown object>"
      ]
     },
     "metadata": {},
     "output_type": "display_data"
    },
    {
     "data": {
      "text/markdown": [
       "- **Classification Report**:\n"
      ],
      "text/plain": [
       "<IPython.core.display.Markdown object>"
      ]
     },
     "metadata": {},
     "output_type": "display_data"
    },
    {
     "name": "stdout",
     "output_type": "stream",
     "text": [
      "              precision    recall  f1-score   support\n",
      "\n",
      "           0      0.837     0.838     0.838      1175\n",
      "           1      0.820     0.819     0.819      1058\n",
      "\n",
      "    accuracy                          0.829      2233\n",
      "   macro avg      0.828     0.828     0.828      2233\n",
      "weighted avg      0.829     0.829     0.829      2233\n",
      "\n"
     ]
    },
    {
     "data": {
      "text/markdown": [
       "- **Confusion Matrix**:\n"
      ],
      "text/plain": [
       "<IPython.core.display.Markdown object>"
      ]
     },
     "metadata": {},
     "output_type": "display_data"
    },
    {
     "data": {
      "image/png": "[encoded data removed]",
      "text/plain": [
       "<Figure size 1000x700 with 2 Axes>"
      ]
     },
     "metadata": {},
     "output_type": "display_data"
    },
    {
     "data": {
      "text/markdown": [
       "## RandomForestClassifier"
      ],
      "text/plain": [
       "<IPython.core.display.Markdown object>"
      ]
     },
     "metadata": {},
     "output_type": "display_data"
    },
    {
     "data": {
      "text/markdown": [
       "The **best parameters** found after GridSearchCV were the following: {'max_depth': 30, 'min_samples_leaf': 2, 'n_estimators': 400}"
      ],
      "text/plain": [
       "<IPython.core.display.Markdown object>"
      ]
     },
     "metadata": {},
     "output_type": "display_data"
    },
    {
     "data": {
      "text/markdown": [
       "The **best accuracy** score during cross validation was: 0.854741035156348."
      ],
      "text/plain": [
       "<IPython.core.display.Markdown object>"
      ]
     },
     "metadata": {},
     "output_type": "display_data"
    },
    {
     "data": {
      "text/markdown": [
       "GridSearchCV has already refitted the tuned Model RandomForestClassifier(max_depth=30, min_samples_leaf=2, n_estimators=400,\n",
       "                       random_state=42) using the best found parameters on the training dataset."
      ],
      "text/plain": [
       "<IPython.core.display.Markdown object>"
      ]
     },
     "metadata": {},
     "output_type": "display_data"
    },
    {
     "data": {
      "text/markdown": [
       "The results on the training dataset were as follows:"
      ],
      "text/plain": [
       "<IPython.core.display.Markdown object>"
      ]
     },
     "metadata": {},
     "output_type": "display_data"
    },
    {
     "data": {
      "text/markdown": [
       "- **Accuracy**: 0.8584863412449619"
      ],
      "text/plain": [
       "<IPython.core.display.Markdown object>"
      ]
     },
     "metadata": {},
     "output_type": "display_data"
    },
    {
     "data": {
      "text/markdown": [
       "- **Classification Report**:\n"
      ],
      "text/plain": [
       "<IPython.core.display.Markdown object>"
      ]
     },
     "metadata": {},
     "output_type": "display_data"
    },
    {
     "name": "stdout",
     "output_type": "stream",
     "text": [
      "              precision    recall  f1-score   support\n",
      "\n",
      "           0      0.896     0.827     0.860      1175\n",
      "           1      0.823     0.893     0.857      1058\n",
      "\n",
      "    accuracy                          0.858      2233\n",
      "   macro avg      0.860     0.860     0.858      2233\n",
      "weighted avg      0.861     0.858     0.859      2233\n",
      "\n"
     ]
    },
    {
     "data": {
      "text/markdown": [
       "- **Confusion Matrix**:\n"
      ],
      "text/plain": [
       "<IPython.core.display.Markdown object>"
      ]
     },
     "metadata": {},
     "output_type": "display_data"
    },
    {
     "data": {
      "image/png": "[encoded data removed]",
      "text/plain": [
       "<Figure size 1000x700 with 2 Axes>"
      ]
     },
     "metadata": {},
     "output_type": "display_data"
    },
    {
     "data": {
      "text/markdown": [
       "## SVC"
      ],
      "text/plain": [
       "<IPython.core.display.Markdown object>"
      ]
     },
     "metadata": {},
     "output_type": "display_data"
    },
    {
     "data": {
      "text/markdown": [
       "The **best parameters** found after GridSearchCV were the following: {'C': 100, 'gamma': 0.01}"
      ],
      "text/plain": [
       "<IPython.core.display.Markdown object>"
      ]
     },
     "metadata": {},
     "output_type": "display_data"
    },
    {
     "data": {
      "text/markdown": [
       "The **best accuracy** score during cross validation was: 0.8512707300165306."
      ],
      "text/plain": [
       "<IPython.core.display.Markdown object>"
      ]
     },
     "metadata": {},
     "output_type": "display_data"
    },
    {
     "data": {
      "text/markdown": [
       "GridSearchCV has already refitted the tuned Model SVC(C=100, gamma=0.01) using the best found parameters on the training dataset."
      ],
      "text/plain": [
       "<IPython.core.display.Markdown object>"
      ]
     },
     "metadata": {},
     "output_type": "display_data"
    },
    {
     "data": {
      "text/markdown": [
       "The results on the training dataset were as follows:"
      ],
      "text/plain": [
       "<IPython.core.display.Markdown object>"
      ]
     },
     "metadata": {},
     "output_type": "display_data"
    },
    {
     "data": {
      "text/markdown": [
       "- **Accuracy**: 0.8607254814151366"
      ],
      "text/plain": [
       "<IPython.core.display.Markdown object>"
      ]
     },
     "metadata": {},
     "output_type": "display_data"
    },
    {
     "data": {
      "text/markdown": [
       "- **Classification Report**:\n"
      ],
      "text/plain": [
       "<IPython.core.display.Markdown object>"
      ]
     },
     "metadata": {},
     "output_type": "display_data"
    },
    {
     "name": "stdout",
     "output_type": "stream",
     "text": [
      "              precision    recall  f1-score   support\n",
      "\n",
      "           0      0.891     0.838     0.864      1175\n",
      "           1      0.831     0.886     0.858      1058\n",
      "\n",
      "    accuracy                          0.861      2233\n",
      "   macro avg      0.861     0.862     0.861      2233\n",
      "weighted avg      0.863     0.861     0.861      2233\n",
      "\n"
     ]
    },
    {
     "data": {
      "text/markdown": [
       "- **Confusion Matrix**:\n"
      ],
      "text/plain": [
       "<IPython.core.display.Markdown object>"
      ]
     },
     "metadata": {},
     "output_type": "display_data"
    },
    {
     "data": {
      "image/png": "[encoded data removed]",
      "text/plain": [
       "<Figure size 1000x700 with 2 Axes>"
      ]
     },
     "metadata": {},
     "output_type": "display_data"
    }
   ],
   "source": [
    "\n",
    "# Step 2\n",
    "model_attributes = [\n",
    "  # [model, param_grid, cv]\n",
    "  [\n",
    "    KNeighborsClassifier(),\n",
    "    {'n_neighbors': list(range(1, 20)),'weights': ['uniform', 'distance'],'p': [1, 2],'metric' : ['minkowski','euclidean','manhattan']},\n",
    "    10\n",
    "  ], [\n",
    "    LogisticRegression(class_weight='balanced', max_iter=10000),\n",
    "    {\"C\": [0.001, 0.01, 0.1, 1, 10, 100, 1000], 'solver': ['liblinear', 'saga'], 'penalty': ['l1', 'l2']},\n",
    "    10\n",
    "  ], [\n",
    "    RandomForestClassifier(random_state=42),\n",
    "    {'n_estimators': [100, 200, 400], 'max_depth': [10, 15, 20, 30, None], 'min_samples_leaf': [1, 2, 4]},\n",
    "    10\n",
    "  ], [\n",
    "    SVC(),\n",
    "    {'C': [0.1, 1, 10, 100, 1000], 'gamma': [1, 0.1, 0.01, 0.001, 0.0001]},\n",
    "    5\n",
    "  ]\n",
    "]\n",
    "\n",
    "for model, param_grid, cv in model_attributes:\n",
    "  display(Markdown(f\"## {model.__class__.__name__}\"))\n",
    "  grid_search = GridSearchCV(model, param_grid, cv=cv, scoring='accuracy')\n",
    "  grid_search.fit(X_train, y_train)\n",
    "  tuned_model = grid_search.best_estimator_\n",
    "  display(Markdown(f\"The **best parameters** found after GridSearchCV were the following: {grid_search.best_params_}\"))\n",
    "  display(Markdown(f\"The **best accuracy** score during cross validation was: {grid_search.best_score_}.\"))\n",
    "  display(Markdown(f\"GridSearchCV has already refitted the tuned Model {tuned_model} using the best found parameters on the training dataset.\"))\n",
    "  # GridSearchCV has refit=True by default, which refits the estimator using the best found parameters on the whole dataset.\n",
    "\n",
    "  display(Markdown(\"The results on the training dataset were as follows:\"))\n",
    "  y_pred_test = tuned_model.predict(X_test)\n",
    "  display(Markdown(f\"- **Accuracy**: {accuracy_score(y_test, y_pred_test)}\"))\n",
    "  display(Markdown(\"- **Classification Report**:\\n\"))\n",
    "  print(classification_report(y_test, y_pred_test, digits=3))\n",
    "  display(Markdown(\"- **Confusion Matrix**:\\n\"))\n",
    "\n",
    "  plt.figure(figsize=(10, 7))\n",
    "  sns.heatmap(confusion_matrix(y_test, y_pred_test), annot=True, fmt='d', cmap='Blues')\n",
    "  plt.xlabel('Predicted Class')\n",
    "  plt.ylabel('Actual Class')\n",
    "  plt.title(f'Confusion Matrix for {model.__class__.__name__}')\n",
    "  plt.show()\n"
   ]
  }
 ],
 "metadata": {
  "kernelspec": {
   "display_name": "base",
   "language": "python",
   "name": "python3"
  },
  "language_info": {
   "codemirror_mode": {
    "name": "ipython",
    "version": 3
   },
   "file_extension": ".py",
   "mimetype": "text/x-python",
   "name": "python",
   "nbconvert_exporter": "python",
   "pygments_lexer": "ipython3",
   "version": "3.12.4"
  }
 },
 "nbformat": 4,
 "nbformat_minor": 4
}
